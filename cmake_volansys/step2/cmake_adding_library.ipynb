{
 "cells": [
  {
   "cell_type": "code",
   "execution_count": null,
   "metadata": {
    "vscode": {
     "languageId": "cmake"
    }
   },
   "outputs": [],
   "source": []
  },
  {
   "cell_type": "markdown",
   "metadata": {},
   "source": [
    "# Adding a Library\n",
    "\n",
    "To add a library in CMake, use the ```add_library()``` command and specify which source files should make up the library.\n",
    "\n",
    "Rather than placing all of the source files in one directory, we can organize our project with one or more subdirectories. \n",
    "\n",
    "In this case, we will create a subdirectory specifically for our library. Here, we can add a new CMakeLists.txt file and one or more source files. \n",
    "\n",
    "In the top level CMakeLists.txt file, we will use the add_subdirectory() command to add the subdirectory to the build.\n",
    "\n",
    "Once the library is created, it is connected to our executable target with target_include_directories() and target_link_libraries().\n",
    "\n"
   ]
  }
 ],
 "metadata": {
  "kernelspec": {
   "display_name": "C++17",
   "language": "C++17",
   "name": "xcpp17"
  },
  "language_info": {
   "name": "C++17"
  }
 },
 "nbformat": 4,
 "nbformat_minor": 2
}
